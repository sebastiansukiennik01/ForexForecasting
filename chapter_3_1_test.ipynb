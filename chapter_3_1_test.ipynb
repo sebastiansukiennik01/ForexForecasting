{
 "cells": [
  {
   "cell_type": "code",
   "execution_count": 1,
   "metadata": {},
   "outputs": [],
   "source": [
    "from src.forecast.cnn import cnnpred_2d, datagen, f1macro, testgen, scale_inputs, precision_m\n",
    "from src.utils.utils import load, add_variables\n",
    "\n",
    "import pandas as pd\n",
    "import numpy as np\n",
    "import matplotlib.pyplot as plt\n",
    "import tensorflow as tf\n",
    "\n",
    "from keras.callbacks import ModelCheckpoint\n",
    "from sklearn.metrics import accuracy_score, f1_score, mean_absolute_error"
   ]
  },
  {
   "attachments": {},
   "cell_type": "markdown",
   "metadata": {},
   "source": [
    "## Testowanie CNN 2D"
   ]
  },
  {
   "cell_type": "code",
   "execution_count": 4,
   "metadata": {},
   "outputs": [],
   "source": [
    "CURR = \"EURUSD\"\n",
    "INTERVAL = \"4h\""
   ]
  },
  {
   "cell_type": "code",
   "execution_count": 5,
   "metadata": {},
   "outputs": [],
   "source": [
    "# load data\n",
    "eurusd = load(currency=CURR, interval=INTERVAL)\n",
    "eurusd = add_variables(ohlc=eurusd)\n",
    "\n",
    "# clean data\n",
    "eurusd.drop(columns=['target_value', 'target_direction'], inplace=True)\n",
    "\n",
    "\n",
    "# scale inputs\n",
    "eurusd = scale_inputs(eurusd, targetcol=[\"impulse\"]) # use different scaler to preserver more info between small values"
   ]
  },
  {
   "attachments": {},
   "cell_type": "markdown",
   "metadata": {},
   "source": [
    "### Training model"
   ]
  },
  {
   "cell_type": "code",
   "execution_count": 6,
   "metadata": {},
   "outputs": [],
   "source": [
    "checkpoint_path = \"./cp2d-{epoch}-{val_f1macro:.2f}.h5\"\n",
    "callbacks = [\n",
    "    ModelCheckpoint(checkpoint_path,\n",
    "                    monitor='val_f1macro', mode=\"max\", verbose=0,\n",
    "                    save_best_only=True, save_weights_only=False, save_freq=\"epoch\")\n",
    "]"
   ]
  },
  {
   "cell_type": "code",
   "execution_count": 54,
   "metadata": {},
   "outputs": [
    {
     "name": "stdout",
     "output_type": "stream",
     "text": [
      "Epoch 1/4\n"
     ]
    },
    {
     "name": "stderr",
     "output_type": "stream",
     "text": [
      "2023-03-23 00:06:27.150434: I tensorflow/core/grappler/optimizers/custom_graph_optimizer_registry.cc:113] Plugin optimizer for device_type GPU is enabled.\n"
     ]
    },
    {
     "name": "stdout",
     "output_type": "stream",
     "text": [
      "200/200 [==============================] - ETA: 0s - loss: 0.2077 - acc: 0.9508 - f1macro: 0.4874 - precision_m: 2.5000e-04"
     ]
    },
    {
     "name": "stderr",
     "output_type": "stream",
     "text": [
      "2023-03-23 00:06:35.137038: I tensorflow/core/grappler/optimizers/custom_graph_optimizer_registry.cc:113] Plugin optimizer for device_type GPU is enabled.\n"
     ]
    },
    {
     "name": "stdout",
     "output_type": "stream",
     "text": [
      "200/200 [==============================] - 9s 40ms/step - loss: 0.2077 - acc: 0.9508 - f1macro: 0.4874 - precision_m: 2.5000e-04 - val_loss: 0.2204 - val_acc: 0.9438 - val_f1macro: 0.4854 - val_precision_m: 0.0000e+00\n",
      "Epoch 2/4\n",
      "200/200 [==============================] - 8s 39ms/step - loss: 0.2020 - acc: 0.9493 - f1macro: 0.4869 - precision_m: 0.0000e+00 - val_loss: 0.2171 - val_acc: 0.9438 - val_f1macro: 0.4855 - val_precision_m: 0.0000e+00\n",
      "Epoch 3/4\n",
      "200/200 [==============================] - 8s 39ms/step - loss: 0.2017 - acc: 0.9491 - f1macro: 0.4868 - precision_m: 0.0000e+00 - val_loss: 0.2449 - val_acc: 0.9344 - val_f1macro: 0.4830 - val_precision_m: 0.0000e+00\n",
      "Epoch 4/4\n",
      "200/200 [==============================] - 8s 38ms/step - loss: 0.2001 - acc: 0.9495 - f1macro: 0.4870 - precision_m: 0.0000e+00 - val_loss: 0.1987 - val_acc: 0.9500 - val_f1macro: 0.4871 - val_precision_m: 0.0000e+00\n"
     ]
    },
    {
     "data": {
      "text/plain": [
       "<keras.callbacks.History at 0x3664f3190>"
      ]
     },
     "execution_count": 54,
     "metadata": {},
     "output_type": "execute_result"
    }
   ],
   "source": [
    "seq_len = 10\n",
    "batch_size = 64\n",
    "n_epochs   = 4\n",
    "n_features = 49\n",
    "\n",
    "class_weight={\n",
    "        0: 1,\n",
    "        1: 1\n",
    "}\n",
    " \n",
    "model = cnnpred_2d(seq_len=seq_len, n_features=n_features)\n",
    "model.compile(optimizer=tf.keras.optimizers.Adam(learning_rate=0.1), \n",
    "              loss=tf.losses.BinaryCrossentropy(),\n",
    "              metrics=[\"acc\", f1macro, precision_m])\n",
    "\n",
    "model.fit(datagen(df=eurusd,\n",
    "                  seq_len=seq_len,\n",
    "                  batch_size=batch_size,\n",
    "                  targetcol=[\"impulse\"],\n",
    "                  kind=\"train\"),\n",
    "          validation_data=datagen(df=eurusd,\n",
    "                                  seq_len=seq_len,\n",
    "                                  batch_size=batch_size,\n",
    "                                  targetcol=[\"impulse\"],\n",
    "                                  kind=\"valid\"),\n",
    "          epochs=n_epochs, \n",
    "          steps_per_epoch=200, \n",
    "          validation_steps=10,\n",
    "          class_weight=class_weight,\n",
    "          verbose=1,\n",
    "          callbacks=callbacks)"
   ]
  },
  {
   "cell_type": "code",
   "execution_count": 55,
   "metadata": {},
   "outputs": [
    {
     "name": "stdout",
     "output_type": "stream",
     "text": [
      " 41/330 [==>...........................] - ETA: 0s"
     ]
    },
    {
     "name": "stderr",
     "output_type": "stream",
     "text": [
      "2023-03-23 00:07:02.350865: I tensorflow/core/grappler/optimizers/custom_graph_optimizer_registry.cc:113] Plugin optimizer for device_type GPU is enabled.\n"
     ]
    },
    {
     "name": "stdout",
     "output_type": "stream",
     "text": [
      "330/330 [==============================] - 1s 2ms/step\n",
      "accuracy: 0.9497915877226222\n",
      "MAE: 0.050208412277377795\n",
      "F1: 0.0\n"
     ]
    }
   ],
   "source": [
    "# Prepare test data\n",
    "test_data, test_target = testgen(eurusd, seq_len, [\"impulse\"])\n",
    "\n",
    "# Test the model\n",
    "test_out = model.predict(test_data)\n",
    "test_pred = (test_out > 0.1).astype(int)\n",
    "print(f\"accuracy: {accuracy_score(test_pred, test_target)}\")\n",
    "print(f\"MAE: {mean_absolute_error(test_pred, test_target)}\")\n",
    "print(f\"F1: {f1_score(test_pred, test_target)}\")"
   ]
  },
  {
   "cell_type": "code",
   "execution_count": 56,
   "metadata": {},
   "outputs": [
    {
     "data": {
      "text/plain": [
       "array([[0.0541468],\n",
       "       [0.0541468],\n",
       "       [0.0541468],\n",
       "       ...,\n",
       "       [0.0541468],\n",
       "       [0.0541468],\n",
       "       [0.0541468]], dtype=float32)"
      ]
     },
     "execution_count": 56,
     "metadata": {},
     "output_type": "execute_result"
    }
   ],
   "source": [
    "test_out"
   ]
  },
  {
   "cell_type": "code",
   "execution_count": 57,
   "metadata": {},
   "outputs": [
    {
     "data": {
      "text/plain": [
       "0    0.949141\n",
       "1    0.050859\n",
       "Name: impulse, dtype: float64"
      ]
     },
     "execution_count": 57,
     "metadata": {},
     "output_type": "execute_result"
    }
   ],
   "source": [
    "eurusd['impulse'].value_counts()/eurusd.shape[0]"
   ]
  },
  {
   "cell_type": "code",
   "execution_count": 45,
   "metadata": {},
   "outputs": [
    {
     "data": {
      "text/plain": [
       "1    10556\n",
       "dtype: int64"
      ]
     },
     "execution_count": 45,
     "metadata": {},
     "output_type": "execute_result"
    }
   ],
   "source": [
    "pd.DataFrame(test_pred).value_counts()"
   ]
  },
  {
   "cell_type": "code",
   "execution_count": null,
   "metadata": {},
   "outputs": [],
   "source": []
  },
  {
   "cell_type": "code",
   "execution_count": null,
   "metadata": {},
   "outputs": [],
   "source": []
  }
 ],
 "metadata": {
  "kernelspec": {
   "display_name": "BACH",
   "language": "python",
   "name": "python3"
  },
  "language_info": {
   "codemirror_mode": {
    "name": "ipython",
    "version": 3
   },
   "file_extension": ".py",
   "mimetype": "text/x-python",
   "name": "python",
   "nbconvert_exporter": "python",
   "pygments_lexer": "ipython3",
   "version": "3.9.6"
  },
  "orig_nbformat": 4
 },
 "nbformat": 4,
 "nbformat_minor": 2
}
