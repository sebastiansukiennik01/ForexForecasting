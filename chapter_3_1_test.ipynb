{
 "cells": [
  {
   "cell_type": "code",
   "execution_count": 78,
   "metadata": {},
   "outputs": [
    {
     "name": "stdout",
     "output_type": "stream",
     "text": [
      "The autoreload extension is already loaded. To reload it, use:\n",
      "  %reload_ext autoreload\n"
     ]
    }
   ],
   "source": [
    "%load_ext autoreload\n",
    "%autoreload 2\n",
    "\n",
    "\n",
    "from src.forecast.cnn import cnnpred_2d, datagen, f1macro, testgen, scale_inputs, precision_m, precision_loss\n",
    "from src.utils.utils import load, add_variables\n",
    "\n",
    "import pandas as pd\n",
    "import numpy as np\n",
    "import matplotlib.pyplot as plt\n",
    "import tensorflow as tf\n",
    "\n",
    "from keras.callbacks import ModelCheckpoint\n",
    "from sklearn.metrics import accuracy_score, f1_score, mean_absolute_error"
   ]
  },
  {
   "attachments": {},
   "cell_type": "markdown",
   "metadata": {},
   "source": [
    "## Testowanie CNN 2D"
   ]
  },
  {
   "cell_type": "code",
   "execution_count": 79,
   "metadata": {},
   "outputs": [],
   "source": [
    "CURR = \"EURUSD\"\n",
    "INTERVAL = \"4h\""
   ]
  },
  {
   "cell_type": "code",
   "execution_count": 80,
   "metadata": {},
   "outputs": [],
   "source": [
    "# load data\n",
    "eurusd = load(currency=CURR, interval=INTERVAL)\n",
    "eurusd = add_variables(ohlc=eurusd)\n",
    "\n",
    "# clean data\n",
    "eurusd.drop(columns=['target_value'], inplace=True)\n",
    "eurusd = eurusd[['Close', 'target_direction']]\n",
    "\n",
    "# scale inputs\n",
    "eurusd = scale_inputs(eurusd, targetcol=[\"target_direction\"]) # use different scaler to preserver more info between small values"
   ]
  },
  {
   "attachments": {},
   "cell_type": "markdown",
   "metadata": {},
   "source": [
    "### Training model"
   ]
  },
  {
   "cell_type": "code",
   "execution_count": 42,
   "metadata": {},
   "outputs": [],
   "source": [
    "checkpoint_path = \"./cp2d-{epoch}-{val_f1macro:.2f}.h5\"\n",
    "callbacks = [\n",
    "    ModelCheckpoint(checkpoint_path,\n",
    "                    monitor='val_f1macro', mode=\"max\", verbose=0,\n",
    "                    save_best_only=True, save_weights_only=False, save_freq=\"epoch\")\n",
    "]"
   ]
  },
  {
   "cell_type": "code",
   "execution_count": 47,
   "metadata": {},
   "outputs": [],
   "source": [
    "import tensorflow as tf\n",
    "from keras.layers import Input, Conv1D, Flatten, Dense, Dropout\n",
    "from keras.models import Sequential"
   ]
  },
  {
   "cell_type": "code",
   "execution_count": 48,
   "metadata": {},
   "outputs": [],
   "source": [
    "seq_len = 10\n",
    "batch_size = 128\n",
    "n_epochs = 5\n",
    "n_features = 1\n",
    "\n",
    "class_weight={\n",
    "        0: 1,\n",
    "        1: 1\n",
    "}\n",
    "\n",
    "\n",
    "def cnnpred_2d(seq_len, n_features):\n",
    "    model = Sequential(\n",
    "        [\n",
    "            Input(shape=(seq_len, n_features, 1)),\n",
    "            Conv1D(10, kernel_size=16, activation='sigmoid', padding='same'),\n",
    "            \n",
    "            Flatten(),\n",
    "            Dense(256, activation='sigmoid'),\n",
    "            Dense(128, activation='sigmoid'),\n",
    "            Dropout(0.1),\n",
    "            Dense(2, activation=\"softmax\"),\n",
    "        ]\n",
    "    )\n",
    "    return model\n",
    "\n",
    " \n",
    "model = cnnpred_2d(seq_len=seq_len, n_features=n_features)\n",
    "model.compile(optimizer=tf.keras.optimizers.Adam(learning_rate=0.1), \n",
    "              loss=tf.keras.losses.BinaryCrossentropy(),\n",
    "              metrics=[\"acc\", f1macro, precision_m])\n"
   ]
  },
  {
   "cell_type": "code",
   "execution_count": 77,
   "metadata": {},
   "outputs": [
    {
     "name": "stdout",
     "output_type": "stream",
     "text": [
      "Epoch 1/5\n"
     ]
    },
    {
     "name": "stderr",
     "output_type": "stream",
     "text": [
      "2023-03-29 23:42:36.078717: I tensorflow/core/grappler/optimizers/custom_graph_optimizer_registry.cc:113] Plugin optimizer for device_type GPU is enabled.\n"
     ]
    },
    {
     "name": "stdout",
     "output_type": "stream",
     "text": [
      "200/200 [==============================] - ETA: 0s - loss: 0.7622 - acc: 0.5018 - f1macro: 0.6541 - precision_m: 0.3613"
     ]
    },
    {
     "name": "stderr",
     "output_type": "stream",
     "text": [
      "2023-03-29 23:42:49.973081: I tensorflow/core/grappler/optimizers/custom_graph_optimizer_registry.cc:113] Plugin optimizer for device_type GPU is enabled.\n"
     ]
    },
    {
     "name": "stdout",
     "output_type": "stream",
     "text": [
      "200/200 [==============================] - 16s 75ms/step - loss: 0.7622 - acc: 0.5018 - f1macro: 0.6541 - precision_m: 0.3613 - val_loss: 0.6628 - val_acc: 1.0000 - val_f1macro: 0.6550 - val_precision_m: 0.3672\n",
      "Epoch 2/5\n",
      "200/200 [==============================] - 15s 73ms/step - loss: 0.6781 - acc: 0.5025 - f1macro: 0.6541 - precision_m: 0.3609 - val_loss: 0.6879 - val_acc: 0.0000e+00 - val_f1macro: 0.6552 - val_precision_m: 0.3695\n",
      "Epoch 3/5\n",
      "200/200 [==============================] - 14s 72ms/step - loss: 0.6849 - acc: 0.5063 - f1macro: 0.6536 - precision_m: 0.3588 - val_loss: 0.6832 - val_acc: 1.0000 - val_f1macro: 0.6544 - val_precision_m: 0.3625\n",
      "Epoch 4/5\n",
      "200/200 [==============================] - 14s 72ms/step - loss: 0.6928 - acc: 0.4808 - f1macro: 0.6545 - precision_m: 0.3638 - val_loss: 0.7012 - val_acc: 1.0000 - val_f1macro: 0.6561 - val_precision_m: 0.3688\n",
      "Epoch 5/5\n",
      "200/200 [==============================] - 14s 72ms/step - loss: 0.6912 - acc: 0.4861 - f1macro: 0.6545 - precision_m: 0.3632 - val_loss: 0.7052 - val_acc: 1.0000 - val_f1macro: 0.6579 - val_precision_m: 0.3836\n"
     ]
    },
    {
     "data": {
      "text/plain": [
       "<keras.callbacks.History at 0x31e32dbb0>"
      ]
     },
     "execution_count": 77,
     "metadata": {},
     "output_type": "execute_result"
    }
   ],
   "source": [
    "\n",
    "model.fit(datagen(df=eurusd,\n",
    "                  seq_len=seq_len,\n",
    "                  batch_size=batch_size,\n",
    "                  targetcol=[\"target_direction\"],\n",
    "                  kind=\"train\"),\n",
    "          validation_data=datagen(df=eurusd,\n",
    "                                  seq_len=seq_len,\n",
    "                                  batch_size=batch_size,\n",
    "                                  targetcol=[\"target_direction\"],\n",
    "                                  kind=\"valid\"),\n",
    "          epochs=n_epochs, \n",
    "          steps_per_epoch=200, \n",
    "          validation_steps=10,\n",
    "          class_weight=class_weight,\n",
    "          verbose=1,\n",
    "          callbacks=callbacks)"
   ]
  },
  {
   "cell_type": "code",
   "execution_count": 78,
   "metadata": {},
   "outputs": [
    {
     "name": "stdout",
     "output_type": "stream",
     "text": [
      " 66/330 [=====>........................] - ETA: 0s"
     ]
    },
    {
     "name": "stderr",
     "output_type": "stream",
     "text": [
      "2023-03-29 23:43:52.349919: I tensorflow/core/grappler/optimizers/custom_graph_optimizer_registry.cc:113] Plugin optimizer for device_type GPU is enabled.\n"
     ]
    },
    {
     "name": "stdout",
     "output_type": "stream",
     "text": [
      "330/330 [==============================] - 1s 2ms/step\n"
     ]
    },
    {
     "ename": "ValueError",
     "evalue": "Classification metrics can't handle a mix of multilabel-indicator and binary targets",
     "output_type": "error",
     "traceback": [
      "\u001b[0;31m---------------------------------------------------------------------------\u001b[0m",
      "\u001b[0;31mValueError\u001b[0m                                Traceback (most recent call last)",
      "Cell \u001b[0;32mIn[78], line 7\u001b[0m\n\u001b[1;32m      5\u001b[0m test_out \u001b[39m=\u001b[39m model\u001b[39m.\u001b[39mpredict(test_data)\n\u001b[1;32m      6\u001b[0m test_pred \u001b[39m=\u001b[39m (test_out \u001b[39m>\u001b[39m \u001b[39m0.1\u001b[39m)\u001b[39m.\u001b[39mastype(\u001b[39mint\u001b[39m)\n\u001b[0;32m----> 7\u001b[0m \u001b[39mprint\u001b[39m(\u001b[39mf\u001b[39m\u001b[39m\"\u001b[39m\u001b[39maccuracy: \u001b[39m\u001b[39m{\u001b[39;00maccuracy_score(test_pred,\u001b[39m \u001b[39mtest_target)\u001b[39m}\u001b[39;00m\u001b[39m\"\u001b[39m)\n\u001b[1;32m      8\u001b[0m \u001b[39mprint\u001b[39m(\u001b[39mf\u001b[39m\u001b[39m\"\u001b[39m\u001b[39mMAE: \u001b[39m\u001b[39m{\u001b[39;00mmean_absolute_error(test_pred,\u001b[39m \u001b[39mtest_target)\u001b[39m}\u001b[39;00m\u001b[39m\"\u001b[39m)\n\u001b[1;32m      9\u001b[0m \u001b[39mprint\u001b[39m(\u001b[39mf\u001b[39m\u001b[39m\"\u001b[39m\u001b[39mF1: \u001b[39m\u001b[39m{\u001b[39;00mf1_score(test_pred,\u001b[39m \u001b[39mtest_target)\u001b[39m}\u001b[39;00m\u001b[39m\"\u001b[39m)\n",
      "File \u001b[0;32m~/.pyenv/versions/3.9.6/envs/BACH/lib/python3.9/site-packages/sklearn/utils/_param_validation.py:192\u001b[0m, in \u001b[0;36mvalidate_params.<locals>.decorator.<locals>.wrapper\u001b[0;34m(*args, **kwargs)\u001b[0m\n\u001b[1;32m    187\u001b[0m validate_parameter_constraints(\n\u001b[1;32m    188\u001b[0m     parameter_constraints, params, caller_name\u001b[39m=\u001b[39mfunc\u001b[39m.\u001b[39m\u001b[39m__qualname__\u001b[39m\n\u001b[1;32m    189\u001b[0m )\n\u001b[1;32m    191\u001b[0m \u001b[39mtry\u001b[39;00m:\n\u001b[0;32m--> 192\u001b[0m     \u001b[39mreturn\u001b[39;00m func(\u001b[39m*\u001b[39;49margs, \u001b[39m*\u001b[39;49m\u001b[39m*\u001b[39;49mkwargs)\n\u001b[1;32m    193\u001b[0m \u001b[39mexcept\u001b[39;00m InvalidParameterError \u001b[39mas\u001b[39;00m e:\n\u001b[1;32m    194\u001b[0m     \u001b[39m# When the function is just a wrapper around an estimator, we allow\u001b[39;00m\n\u001b[1;32m    195\u001b[0m     \u001b[39m# the function to delegate validation to the estimator, but we replace\u001b[39;00m\n\u001b[1;32m    196\u001b[0m     \u001b[39m# the name of the estimator by the name of the function in the error\u001b[39;00m\n\u001b[1;32m    197\u001b[0m     \u001b[39m# message to avoid confusion.\u001b[39;00m\n\u001b[1;32m    198\u001b[0m     msg \u001b[39m=\u001b[39m re\u001b[39m.\u001b[39msub(\n\u001b[1;32m    199\u001b[0m         \u001b[39mr\u001b[39m\u001b[39m\"\u001b[39m\u001b[39mparameter of \u001b[39m\u001b[39m\\\u001b[39m\u001b[39mw+ must be\u001b[39m\u001b[39m\"\u001b[39m,\n\u001b[1;32m    200\u001b[0m         \u001b[39mf\u001b[39m\u001b[39m\"\u001b[39m\u001b[39mparameter of \u001b[39m\u001b[39m{\u001b[39;00mfunc\u001b[39m.\u001b[39m\u001b[39m__qualname__\u001b[39m\u001b[39m}\u001b[39;00m\u001b[39m must be\u001b[39m\u001b[39m\"\u001b[39m,\n\u001b[1;32m    201\u001b[0m         \u001b[39mstr\u001b[39m(e),\n\u001b[1;32m    202\u001b[0m     )\n",
      "File \u001b[0;32m~/.pyenv/versions/3.9.6/envs/BACH/lib/python3.9/site-packages/sklearn/metrics/_classification.py:221\u001b[0m, in \u001b[0;36maccuracy_score\u001b[0;34m(y_true, y_pred, normalize, sample_weight)\u001b[0m\n\u001b[1;32m    155\u001b[0m \u001b[39m\u001b[39m\u001b[39m\"\"\"Accuracy classification score.\u001b[39;00m\n\u001b[1;32m    156\u001b[0m \n\u001b[1;32m    157\u001b[0m \u001b[39mIn multilabel classification, this function computes subset accuracy:\u001b[39;00m\n\u001b[0;32m   (...)\u001b[0m\n\u001b[1;32m    217\u001b[0m \u001b[39m0.5\u001b[39;00m\n\u001b[1;32m    218\u001b[0m \u001b[39m\"\"\"\u001b[39;00m\n\u001b[1;32m    220\u001b[0m \u001b[39m# Compute accuracy for each possible representation\u001b[39;00m\n\u001b[0;32m--> 221\u001b[0m y_type, y_true, y_pred \u001b[39m=\u001b[39m _check_targets(y_true, y_pred)\n\u001b[1;32m    222\u001b[0m check_consistent_length(y_true, y_pred, sample_weight)\n\u001b[1;32m    223\u001b[0m \u001b[39mif\u001b[39;00m y_type\u001b[39m.\u001b[39mstartswith(\u001b[39m\"\u001b[39m\u001b[39mmultilabel\u001b[39m\u001b[39m\"\u001b[39m):\n",
      "File \u001b[0;32m~/.pyenv/versions/3.9.6/envs/BACH/lib/python3.9/site-packages/sklearn/metrics/_classification.py:95\u001b[0m, in \u001b[0;36m_check_targets\u001b[0;34m(y_true, y_pred)\u001b[0m\n\u001b[1;32m     92\u001b[0m     y_type \u001b[39m=\u001b[39m {\u001b[39m\"\u001b[39m\u001b[39mmulticlass\u001b[39m\u001b[39m\"\u001b[39m}\n\u001b[1;32m     94\u001b[0m \u001b[39mif\u001b[39;00m \u001b[39mlen\u001b[39m(y_type) \u001b[39m>\u001b[39m \u001b[39m1\u001b[39m:\n\u001b[0;32m---> 95\u001b[0m     \u001b[39mraise\u001b[39;00m \u001b[39mValueError\u001b[39;00m(\n\u001b[1;32m     96\u001b[0m         \u001b[39m\"\u001b[39m\u001b[39mClassification metrics can\u001b[39m\u001b[39m'\u001b[39m\u001b[39mt handle a mix of \u001b[39m\u001b[39m{0}\u001b[39;00m\u001b[39m and \u001b[39m\u001b[39m{1}\u001b[39;00m\u001b[39m targets\u001b[39m\u001b[39m\"\u001b[39m\u001b[39m.\u001b[39mformat(\n\u001b[1;32m     97\u001b[0m             type_true, type_pred\n\u001b[1;32m     98\u001b[0m         )\n\u001b[1;32m     99\u001b[0m     )\n\u001b[1;32m    101\u001b[0m \u001b[39m# We can't have more than one value on y_type => The set is no more needed\u001b[39;00m\n\u001b[1;32m    102\u001b[0m y_type \u001b[39m=\u001b[39m y_type\u001b[39m.\u001b[39mpop()\n",
      "\u001b[0;31mValueError\u001b[0m: Classification metrics can't handle a mix of multilabel-indicator and binary targets"
     ]
    }
   ],
   "source": [
    "# Prepare test data\n",
    "test_data, test_target = testgen(eurusd, seq_len, [\"target_direction\"])\n",
    "\n",
    "# Test the model\n",
    "test_out = model.predict(test_data)\n",
    "test_pred = (test_out > 0.1).astype(int)\n",
    "print(f\"accuracy: {accuracy_score(test_pred, test_target)}\")\n",
    "print(f\"MAE: {mean_absolute_error(test_pred, test_target)}\")\n",
    "print(f\"F1: {f1_score(test_pred, test_target)}\")"
   ]
  },
  {
   "cell_type": "code",
   "execution_count": null,
   "metadata": {},
   "outputs": [
    {
     "name": "stdout",
     "output_type": "stream",
     "text": [
      "Model: \"sequential_14\"\n",
      "_________________________________________________________________\n",
      " Layer (type)                Output Shape              Param #   \n",
      "=================================================================\n",
      " conv1d_27 (Conv1D)          (None, 10, 1, 10)         170       \n",
      "                                                                 \n",
      " flatten_13 (Flatten)        (None, 100)               0         \n",
      "                                                                 \n",
      " dense_18 (Dense)            (None, 256)               25856     \n",
      "                                                                 \n",
      " dense_19 (Dense)            (None, 128)               32896     \n",
      "                                                                 \n",
      " dropout_14 (Dropout)        (None, 128)               0         \n",
      "                                                                 \n",
      " dense_20 (Dense)            (None, 1)                 129       \n",
      "                                                                 \n",
      "=================================================================\n",
      "Total params: 59,051\n",
      "Trainable params: 59,051\n",
      "Non-trainable params: 0\n",
      "_________________________________________________________________\n"
     ]
    }
   ],
   "source": [
    "model.summary()"
   ]
  },
  {
   "cell_type": "code",
   "execution_count": 79,
   "metadata": {},
   "outputs": [
    {
     "data": {
      "text/plain": [
       "array([[0.5008456 , 0.49915445],\n",
       "       [0.5008456 , 0.49915445],\n",
       "       [0.5008456 , 0.49915445],\n",
       "       ...,\n",
       "       [0.5008456 , 0.49915445],\n",
       "       [0.5008456 , 0.49915445],\n",
       "       [0.5008456 , 0.49915445]], dtype=float32)"
      ]
     },
     "execution_count": 79,
     "metadata": {},
     "output_type": "execute_result"
    }
   ],
   "source": [
    "test_out"
   ]
  },
  {
   "cell_type": "code",
   "execution_count": 22,
   "metadata": {},
   "outputs": [
    {
     "data": {
      "text/plain": [
       "0    0.640443\n",
       "1    0.359557\n",
       "Name: target_direction, dtype: float64"
      ]
     },
     "execution_count": 22,
     "metadata": {},
     "output_type": "execute_result"
    }
   ],
   "source": [
    "eurusd['target_direction'].value_counts()/eurusd.shape[0]"
   ]
  },
  {
   "cell_type": "code",
   "execution_count": 23,
   "metadata": {},
   "outputs": [
    {
     "data": {
      "text/plain": [
       "1    10556\n",
       "dtype: int64"
      ]
     },
     "execution_count": 23,
     "metadata": {},
     "output_type": "execute_result"
    }
   ],
   "source": [
    "pd.DataFrame(test_pred).value_counts()"
   ]
  },
  {
   "cell_type": "code",
   "execution_count": null,
   "metadata": {},
   "outputs": [],
   "source": []
  },
  {
   "attachments": {},
   "cell_type": "markdown",
   "metadata": {},
   "source": [
    "# TESTING"
   ]
  },
  {
   "cell_type": "code",
   "execution_count": 117,
   "metadata": {},
   "outputs": [
    {
     "data": {
      "text/plain": [
       "<tf.Tensor: shape=(5,), dtype=float32, numpy=array([1., 2., 3., 4., 5.], dtype=float32)>"
      ]
     },
     "execution_count": 117,
     "metadata": {},
     "output_type": "execute_result"
    }
   ],
   "source": [
    "x = tf.constant([1., 2., 3., 4., 5.])\n",
    "x"
   ]
  },
  {
   "cell_type": "code",
   "execution_count": 118,
   "metadata": {},
   "outputs": [],
   "source": [
    "x = eurusd['target_direction'].values[:20]"
   ]
  },
  {
   "cell_type": "code",
   "execution_count": 119,
   "metadata": {},
   "outputs": [],
   "source": [
    "x = np.reshape(x, [1, 20, 1]).astype(float)"
   ]
  },
  {
   "cell_type": "code",
   "execution_count": 120,
   "metadata": {},
   "outputs": [
    {
     "data": {
      "text/plain": [
       "array([[[0.],\n",
       "        [0.],\n",
       "        [1.],\n",
       "        [1.],\n",
       "        [0.],\n",
       "        [0.],\n",
       "        [0.],\n",
       "        [1.],\n",
       "        [1.],\n",
       "        [0.],\n",
       "        [0.],\n",
       "        [1.],\n",
       "        [0.],\n",
       "        [0.],\n",
       "        [0.],\n",
       "        [1.],\n",
       "        [0.],\n",
       "        [1.],\n",
       "        [0.],\n",
       "        [0.]]])"
      ]
     },
     "execution_count": 120,
     "metadata": {},
     "output_type": "execute_result"
    }
   ],
   "source": [
    "x"
   ]
  },
  {
   "cell_type": "code",
   "execution_count": 126,
   "metadata": {},
   "outputs": [
    {
     "data": {
      "text/plain": [
       "[]"
      ]
     },
     "execution_count": 126,
     "metadata": {},
     "output_type": "execute_result"
    }
   ],
   "source": [
    "conv = Conv1D(filters=2, kernel_size=2, padding='same')\n",
    "conv.weights"
   ]
  },
  {
   "cell_type": "code",
   "execution_count": 127,
   "metadata": {},
   "outputs": [
    {
     "data": {
      "text/plain": [
       "<tf.Tensor: shape=(1, 20, 2), dtype=float32, numpy=\n",
       "array([[[ 0.        ,  0.        ],\n",
       "        [ 0.36989117, -0.9865818 ],\n",
       "        [-0.00652289, -0.33389926],\n",
       "        [-0.37641406,  0.65268254],\n",
       "        [ 0.        ,  0.        ],\n",
       "        [ 0.        ,  0.        ],\n",
       "        [ 0.36989117, -0.9865818 ],\n",
       "        [-0.00652289, -0.33389926],\n",
       "        [-0.37641406,  0.65268254],\n",
       "        [ 0.        ,  0.        ],\n",
       "        [ 0.36989117, -0.9865818 ],\n",
       "        [-0.37641406,  0.65268254],\n",
       "        [ 0.        ,  0.        ],\n",
       "        [ 0.        ,  0.        ],\n",
       "        [ 0.36989117, -0.9865818 ],\n",
       "        [-0.37641406,  0.65268254],\n",
       "        [ 0.36989117, -0.9865818 ],\n",
       "        [-0.37641406,  0.65268254],\n",
       "        [ 0.        ,  0.        ],\n",
       "        [ 0.        ,  0.        ]]], dtype=float32)>"
      ]
     },
     "execution_count": 127,
     "metadata": {},
     "output_type": "execute_result"
    }
   ],
   "source": [
    "x_conv = conv(x)\n",
    "x_conv"
   ]
  },
  {
   "cell_type": "code",
   "execution_count": 129,
   "metadata": {},
   "outputs": [
    {
     "data": {
      "text/plain": [
       "<tf.Tensor: shape=(1, 20, 1), dtype=float32, numpy=\n",
       "array([[[0.        ],\n",
       "        [0.33333334],\n",
       "        [0.6666667 ],\n",
       "        [0.6666667 ],\n",
       "        [0.33333334],\n",
       "        [0.        ],\n",
       "        [0.33333334],\n",
       "        [0.6666667 ],\n",
       "        [0.6666667 ],\n",
       "        [0.33333334],\n",
       "        [0.33333334],\n",
       "        [0.33333334],\n",
       "        [0.33333334],\n",
       "        [0.        ],\n",
       "        [0.33333334],\n",
       "        [0.33333334],\n",
       "        [0.6666667 ],\n",
       "        [0.33333334],\n",
       "        [0.33333334],\n",
       "        [0.        ]]], dtype=float32)>"
      ]
     },
     "execution_count": 129,
     "metadata": {},
     "output_type": "execute_result"
    }
   ],
   "source": [
    "avg_pool = tf.keras.layers.AveragePooling1D(pool_size=3, strides=1, padding=\"same\")\n",
    "avg_pool(x)"
   ]
  },
  {
   "cell_type": "code",
   "execution_count": null,
   "metadata": {},
   "outputs": [],
   "source": []
  },
  {
   "cell_type": "code",
   "execution_count": null,
   "metadata": {},
   "outputs": [],
   "source": []
  }
 ],
 "metadata": {
  "kernelspec": {
   "display_name": "BACH",
   "language": "python",
   "name": "python3"
  },
  "language_info": {
   "codemirror_mode": {
    "name": "ipython",
    "version": 3
   },
   "file_extension": ".py",
   "mimetype": "text/x-python",
   "name": "python",
   "nbconvert_exporter": "python",
   "pygments_lexer": "ipython3",
   "version": "3.9.6"
  },
  "orig_nbformat": 4
 },
 "nbformat": 4,
 "nbformat_minor": 2
}
