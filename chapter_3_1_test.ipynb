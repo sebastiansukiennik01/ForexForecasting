{
 "cells": [
  {
   "cell_type": "code",
   "execution_count": 1,
   "metadata": {},
   "outputs": [
    {
     "name": "stdout",
     "output_type": "stream",
     "text": [
      "Metal device set to: Apple M1 Pro\n",
      "\n",
      "systemMemory: 16.00 GB\n",
      "maxCacheSize: 5.33 GB\n",
      "\n"
     ]
    }
   ],
   "source": [
    "%load_ext autoreload\n",
    "%autoreload 2\n",
    "\n",
    "\n",
    "# from src.forecast. import cnnpred_2d, datagen, f1macro, testgen, scale_inputs, precision_m, precision_loss\n",
    "from src.utils import load, add_variables\n",
    "\n",
    "import pandas as pd\n",
    "import numpy as np\n",
    "import matplotlib.pyplot as plt\n",
    "import tensorflow as tf\n",
    "\n",
    "from keras.callbacks import ModelCheckpoint\n",
    "from sklearn.metrics import accuracy_score, f1_score, mean_absolute_error"
   ]
  },
  {
   "attachments": {},
   "cell_type": "markdown",
   "metadata": {},
   "source": [
    "## Testowanie CNN 2D"
   ]
  },
  {
   "cell_type": "code",
   "execution_count": 2,
   "metadata": {},
   "outputs": [],
   "source": [
    "CURR = \"EURUSD\"\n",
    "INTERVAL = \"4h\""
   ]
  },
  {
   "cell_type": "code",
   "execution_count": 6,
   "metadata": {},
   "outputs": [
    {
     "ename": "KeyError",
     "evalue": "\"['target_direction'] not in index\"",
     "output_type": "error",
     "traceback": [
      "\u001b[0;31m---------------------------------------------------------------------------\u001b[0m",
      "\u001b[0;31mKeyError\u001b[0m                                  Traceback (most recent call last)",
      "Cell \u001b[0;32mIn[6], line 7\u001b[0m\n\u001b[1;32m      5\u001b[0m \u001b[39m# clean data\u001b[39;00m\n\u001b[1;32m      6\u001b[0m eurusd\u001b[39m.\u001b[39mdrop(columns\u001b[39m=\u001b[39m[\u001b[39m'\u001b[39m\u001b[39mtarget_value\u001b[39m\u001b[39m'\u001b[39m], inplace\u001b[39m=\u001b[39m\u001b[39mTrue\u001b[39;00m)\n\u001b[0;32m----> 7\u001b[0m eurusd \u001b[39m=\u001b[39m eurusd[[\u001b[39m'\u001b[39;49m\u001b[39mClose\u001b[39;49m\u001b[39m'\u001b[39;49m, \u001b[39m'\u001b[39;49m\u001b[39mtarget_direction\u001b[39;49m\u001b[39m'\u001b[39;49m]]\n\u001b[1;32m      9\u001b[0m \u001b[39m# scale inputs\u001b[39;00m\n\u001b[1;32m     10\u001b[0m \u001b[39m# eurusd = scale_inputs(eurusd, targetcol=[\"target_direction\"]) # use different scaler to preserver more info between small values\u001b[39;00m\n",
      "File \u001b[0;32m~/.pyenv/versions/3.9.6/envs/BACH/lib/python3.9/site-packages/pandas/core/frame.py:3813\u001b[0m, in \u001b[0;36mDataFrame.__getitem__\u001b[0;34m(self, key)\u001b[0m\n\u001b[1;32m   3811\u001b[0m     \u001b[39mif\u001b[39;00m is_iterator(key):\n\u001b[1;32m   3812\u001b[0m         key \u001b[39m=\u001b[39m \u001b[39mlist\u001b[39m(key)\n\u001b[0;32m-> 3813\u001b[0m     indexer \u001b[39m=\u001b[39m \u001b[39mself\u001b[39;49m\u001b[39m.\u001b[39;49mcolumns\u001b[39m.\u001b[39;49m_get_indexer_strict(key, \u001b[39m\"\u001b[39;49m\u001b[39mcolumns\u001b[39;49m\u001b[39m\"\u001b[39;49m)[\u001b[39m1\u001b[39m]\n\u001b[1;32m   3815\u001b[0m \u001b[39m# take() does not accept boolean indexers\u001b[39;00m\n\u001b[1;32m   3816\u001b[0m \u001b[39mif\u001b[39;00m \u001b[39mgetattr\u001b[39m(indexer, \u001b[39m\"\u001b[39m\u001b[39mdtype\u001b[39m\u001b[39m\"\u001b[39m, \u001b[39mNone\u001b[39;00m) \u001b[39m==\u001b[39m \u001b[39mbool\u001b[39m:\n",
      "File \u001b[0;32m~/.pyenv/versions/3.9.6/envs/BACH/lib/python3.9/site-packages/pandas/core/indexes/base.py:6070\u001b[0m, in \u001b[0;36mIndex._get_indexer_strict\u001b[0;34m(self, key, axis_name)\u001b[0m\n\u001b[1;32m   6067\u001b[0m \u001b[39melse\u001b[39;00m:\n\u001b[1;32m   6068\u001b[0m     keyarr, indexer, new_indexer \u001b[39m=\u001b[39m \u001b[39mself\u001b[39m\u001b[39m.\u001b[39m_reindex_non_unique(keyarr)\n\u001b[0;32m-> 6070\u001b[0m \u001b[39mself\u001b[39;49m\u001b[39m.\u001b[39;49m_raise_if_missing(keyarr, indexer, axis_name)\n\u001b[1;32m   6072\u001b[0m keyarr \u001b[39m=\u001b[39m \u001b[39mself\u001b[39m\u001b[39m.\u001b[39mtake(indexer)\n\u001b[1;32m   6073\u001b[0m \u001b[39mif\u001b[39;00m \u001b[39misinstance\u001b[39m(key, Index):\n\u001b[1;32m   6074\u001b[0m     \u001b[39m# GH 42790 - Preserve name from an Index\u001b[39;00m\n",
      "File \u001b[0;32m~/.pyenv/versions/3.9.6/envs/BACH/lib/python3.9/site-packages/pandas/core/indexes/base.py:6133\u001b[0m, in \u001b[0;36mIndex._raise_if_missing\u001b[0;34m(self, key, indexer, axis_name)\u001b[0m\n\u001b[1;32m   6130\u001b[0m     \u001b[39mraise\u001b[39;00m \u001b[39mKeyError\u001b[39;00m(\u001b[39mf\u001b[39m\u001b[39m\"\u001b[39m\u001b[39mNone of [\u001b[39m\u001b[39m{\u001b[39;00mkey\u001b[39m}\u001b[39;00m\u001b[39m] are in the [\u001b[39m\u001b[39m{\u001b[39;00maxis_name\u001b[39m}\u001b[39;00m\u001b[39m]\u001b[39m\u001b[39m\"\u001b[39m)\n\u001b[1;32m   6132\u001b[0m not_found \u001b[39m=\u001b[39m \u001b[39mlist\u001b[39m(ensure_index(key)[missing_mask\u001b[39m.\u001b[39mnonzero()[\u001b[39m0\u001b[39m]]\u001b[39m.\u001b[39munique())\n\u001b[0;32m-> 6133\u001b[0m \u001b[39mraise\u001b[39;00m \u001b[39mKeyError\u001b[39;00m(\u001b[39mf\u001b[39m\u001b[39m\"\u001b[39m\u001b[39m{\u001b[39;00mnot_found\u001b[39m}\u001b[39;00m\u001b[39m not in index\u001b[39m\u001b[39m\"\u001b[39m)\n",
      "\u001b[0;31mKeyError\u001b[0m: \"['target_direction'] not in index\""
     ]
    }
   ],
   "source": [
    "# load data\n",
    "eurusd = load(currency=CURR, interval=INTERVAL)\n",
    "eurusd = add_variables(ohlc=eurusd)\n",
    "\n",
    "# clean data\n",
    "eurusd.drop(columns=['target_value'], inplace=True)\n",
    "eurusd = eurusd[['Close', 'target_direction']]\n",
    "\n",
    "# scale inputs\n",
    "eurusd = scale_inputs(eurusd, targetcol=[\"target_direction\"]) # use different scaler to preserver more info between small values"
   ]
  },
  {
   "attachments": {},
   "cell_type": "markdown",
   "metadata": {},
   "source": [
    "### Training model"
   ]
  },
  {
   "cell_type": "code",
   "execution_count": 42,
   "metadata": {},
   "outputs": [],
   "source": [
    "checkpoint_path = \"./cp2d-{epoch}-{val_f1macro:.2f}.h5\"\n",
    "callbacks = [\n",
    "    ModelCheckpoint(checkpoint_path,\n",
    "                    monitor='val_f1macro', mode=\"max\", verbose=0,\n",
    "                    save_best_only=True, save_weights_only=False, save_freq=\"epoch\")\n",
    "]"
   ]
  },
  {
   "cell_type": "code",
   "execution_count": 47,
   "metadata": {},
   "outputs": [],
   "source": [
    "import tensorflow as tf\n",
    "from keras.layers import Input, Conv1D, Flatten, Dense, Dropout\n",
    "from keras.models import Sequential"
   ]
  },
  {
   "cell_type": "code",
   "execution_count": 48,
   "metadata": {},
   "outputs": [],
   "source": [
    "seq_len = 10\n",
    "batch_size = 128\n",
    "n_epochs = 5\n",
    "n_features = 1\n",
    "\n",
    "class_weight={\n",
    "        0: 1,\n",
    "        1: 1\n",
    "}\n",
    "\n",
    "\n",
    "def cnnpred_2d(seq_len, n_features):\n",
    "    model = Sequential(\n",
    "        [\n",
    "            Input(shape=(seq_len, n_features, 1)),\n",
    "            Conv1D(10, kernel_size=16, activation='sigmoid', padding='same'),\n",
    "            \n",
    "            Flatten(),\n",
    "            Dense(256, activation='sigmoid'),\n",
    "            Dense(128, activation='sigmoid'),\n",
    "            Dropout(0.1),\n",
    "            Dense(2, activation=\"softmax\"),\n",
    "        ]\n",
    "    )\n",
    "    return model\n",
    "\n",
    " \n",
    "model = cnnpred_2d(seq_len=seq_len, n_features=n_features)\n",
    "model.compile(optimizer=tf.keras.optimizers.Adam(learning_rate=0.1), \n",
    "              loss=tf.keras.losses.BinaryCrossentropy(),\n",
    "              metrics=[\"acc\", f1macro, precision_m])\n"
   ]
  },
  {
   "cell_type": "code",
   "execution_count": 77,
   "metadata": {},
   "outputs": [
    {
     "name": "stdout",
     "output_type": "stream",
     "text": [
      "Epoch 1/5\n"
     ]
    },
    {
     "name": "stderr",
     "output_type": "stream",
     "text": [
      "2023-03-29 23:42:36.078717: I tensorflow/core/grappler/optimizers/custom_graph_optimizer_registry.cc:113] Plugin optimizer for device_type GPU is enabled.\n"
     ]
    },
    {
     "name": "stdout",
     "output_type": "stream",
     "text": [
      "200/200 [==============================] - ETA: 0s - loss: 0.7622 - acc: 0.5018 - f1macro: 0.6541 - precision_m: 0.3613"
     ]
    },
    {
     "name": "stderr",
     "output_type": "stream",
     "text": [
      "2023-03-29 23:42:49.973081: I tensorflow/core/grappler/optimizers/custom_graph_optimizer_registry.cc:113] Plugin optimizer for device_type GPU is enabled.\n"
     ]
    },
    {
     "name": "stdout",
     "output_type": "stream",
     "text": [
      "200/200 [==============================] - 16s 75ms/step - loss: 0.7622 - acc: 0.5018 - f1macro: 0.6541 - precision_m: 0.3613 - val_loss: 0.6628 - val_acc: 1.0000 - val_f1macro: 0.6550 - val_precision_m: 0.3672\n",
      "Epoch 2/5\n",
      "200/200 [==============================] - 15s 73ms/step - loss: 0.6781 - acc: 0.5025 - f1macro: 0.6541 - precision_m: 0.3609 - val_loss: 0.6879 - val_acc: 0.0000e+00 - val_f1macro: 0.6552 - val_precision_m: 0.3695\n",
      "Epoch 3/5\n",
      "200/200 [==============================] - 14s 72ms/step - loss: 0.6849 - acc: 0.5063 - f1macro: 0.6536 - precision_m: 0.3588 - val_loss: 0.6832 - val_acc: 1.0000 - val_f1macro: 0.6544 - val_precision_m: 0.3625\n",
      "Epoch 4/5\n",
      "200/200 [==============================] - 14s 72ms/step - loss: 0.6928 - acc: 0.4808 - f1macro: 0.6545 - precision_m: 0.3638 - val_loss: 0.7012 - val_acc: 1.0000 - val_f1macro: 0.6561 - val_precision_m: 0.3688\n",
      "Epoch 5/5\n",
      "200/200 [==============================] - 14s 72ms/step - loss: 0.6912 - acc: 0.4861 - f1macro: 0.6545 - precision_m: 0.3632 - val_loss: 0.7052 - val_acc: 1.0000 - val_f1macro: 0.6579 - val_precision_m: 0.3836\n"
     ]
    },
    {
     "data": {
      "text/plain": [
       "<keras.callbacks.History at 0x31e32dbb0>"
      ]
     },
     "execution_count": 77,
     "metadata": {},
     "output_type": "execute_result"
    }
   ],
   "source": [
    "\n",
    "model.fit(datagen(df=eurusd,\n",
    "                  seq_len=seq_len,\n",
    "                  batch_size=batch_size,\n",
    "                  targetcol=[\"target_direction\"],\n",
    "                  kind=\"train\"),\n",
    "          validation_data=datagen(df=eurusd,\n",
    "                                  seq_len=seq_len,\n",
    "                                  batch_size=batch_size,\n",
    "                                  targetcol=[\"target_direction\"],\n",
    "                                  kind=\"valid\"),\n",
    "          epochs=n_epochs, \n",
    "          steps_per_epoch=200, \n",
    "          validation_steps=10,\n",
    "          class_weight=class_weight,\n",
    "          verbose=1,\n",
    "          callbacks=callbacks)"
   ]
  },
  {
   "cell_type": "code",
   "execution_count": 78,
   "metadata": {},
   "outputs": [
    {
     "name": "stdout",
     "output_type": "stream",
     "text": [
      " 66/330 [=====>........................] - ETA: 0s"
     ]
    },
    {
     "name": "stderr",
     "output_type": "stream",
     "text": [
      "2023-03-29 23:43:52.349919: I tensorflow/core/grappler/optimizers/custom_graph_optimizer_registry.cc:113] Plugin optimizer for device_type GPU is enabled.\n"
     ]
    },
    {
     "name": "stdout",
     "output_type": "stream",
     "text": [
      "330/330 [==============================] - 1s 2ms/step\n"
     ]
    },
    {
     "ename": "ValueError",
     "evalue": "Classification metrics can't handle a mix of multilabel-indicator and binary targets",
     "output_type": "error",
     "traceback": [
      "\u001b[0;31m---------------------------------------------------------------------------\u001b[0m",
      "\u001b[0;31mValueError\u001b[0m                                Traceback (most recent call last)",
      "Cell \u001b[0;32mIn[78], line 7\u001b[0m\n\u001b[1;32m      5\u001b[0m test_out \u001b[39m=\u001b[39m model\u001b[39m.\u001b[39mpredict(test_data)\n\u001b[1;32m      6\u001b[0m test_pred \u001b[39m=\u001b[39m (test_out \u001b[39m>\u001b[39m \u001b[39m0.1\u001b[39m)\u001b[39m.\u001b[39mastype(\u001b[39mint\u001b[39m)\n\u001b[0;32m----> 7\u001b[0m \u001b[39mprint\u001b[39m(\u001b[39mf\u001b[39m\u001b[39m\"\u001b[39m\u001b[39maccuracy: \u001b[39m\u001b[39m{\u001b[39;00maccuracy_score(test_pred,\u001b[39m \u001b[39mtest_target)\u001b[39m}\u001b[39;00m\u001b[39m\"\u001b[39m)\n\u001b[1;32m      8\u001b[0m \u001b[39mprint\u001b[39m(\u001b[39mf\u001b[39m\u001b[39m\"\u001b[39m\u001b[39mMAE: \u001b[39m\u001b[39m{\u001b[39;00mmean_absolute_error(test_pred,\u001b[39m \u001b[39mtest_target)\u001b[39m}\u001b[39;00m\u001b[39m\"\u001b[39m)\n\u001b[1;32m      9\u001b[0m \u001b[39mprint\u001b[39m(\u001b[39mf\u001b[39m\u001b[39m\"\u001b[39m\u001b[39mF1: \u001b[39m\u001b[39m{\u001b[39;00mf1_score(test_pred,\u001b[39m \u001b[39mtest_target)\u001b[39m}\u001b[39;00m\u001b[39m\"\u001b[39m)\n",
      "File \u001b[0;32m~/.pyenv/versions/3.9.6/envs/BACH/lib/python3.9/site-packages/sklearn/utils/_param_validation.py:192\u001b[0m, in \u001b[0;36mvalidate_params.<locals>.decorator.<locals>.wrapper\u001b[0;34m(*args, **kwargs)\u001b[0m\n\u001b[1;32m    187\u001b[0m validate_parameter_constraints(\n\u001b[1;32m    188\u001b[0m     parameter_constraints, params, caller_name\u001b[39m=\u001b[39mfunc\u001b[39m.\u001b[39m\u001b[39m__qualname__\u001b[39m\n\u001b[1;32m    189\u001b[0m )\n\u001b[1;32m    191\u001b[0m \u001b[39mtry\u001b[39;00m:\n\u001b[0;32m--> 192\u001b[0m     \u001b[39mreturn\u001b[39;00m func(\u001b[39m*\u001b[39;49margs, \u001b[39m*\u001b[39;49m\u001b[39m*\u001b[39;49mkwargs)\n\u001b[1;32m    193\u001b[0m \u001b[39mexcept\u001b[39;00m InvalidParameterError \u001b[39mas\u001b[39;00m e:\n\u001b[1;32m    194\u001b[0m     \u001b[39m# When the function is just a wrapper around an estimator, we allow\u001b[39;00m\n\u001b[1;32m    195\u001b[0m     \u001b[39m# the function to delegate validation to the estimator, but we replace\u001b[39;00m\n\u001b[1;32m    196\u001b[0m     \u001b[39m# the name of the estimator by the name of the function in the error\u001b[39;00m\n\u001b[1;32m    197\u001b[0m     \u001b[39m# message to avoid confusion.\u001b[39;00m\n\u001b[1;32m    198\u001b[0m     msg \u001b[39m=\u001b[39m re\u001b[39m.\u001b[39msub(\n\u001b[1;32m    199\u001b[0m         \u001b[39mr\u001b[39m\u001b[39m\"\u001b[39m\u001b[39mparameter of \u001b[39m\u001b[39m\\\u001b[39m\u001b[39mw+ must be\u001b[39m\u001b[39m\"\u001b[39m,\n\u001b[1;32m    200\u001b[0m         \u001b[39mf\u001b[39m\u001b[39m\"\u001b[39m\u001b[39mparameter of \u001b[39m\u001b[39m{\u001b[39;00mfunc\u001b[39m.\u001b[39m\u001b[39m__qualname__\u001b[39m\u001b[39m}\u001b[39;00m\u001b[39m must be\u001b[39m\u001b[39m\"\u001b[39m,\n\u001b[1;32m    201\u001b[0m         \u001b[39mstr\u001b[39m(e),\n\u001b[1;32m    202\u001b[0m     )\n",
      "File \u001b[0;32m~/.pyenv/versions/3.9.6/envs/BACH/lib/python3.9/site-packages/sklearn/metrics/_classification.py:221\u001b[0m, in \u001b[0;36maccuracy_score\u001b[0;34m(y_true, y_pred, normalize, sample_weight)\u001b[0m\n\u001b[1;32m    155\u001b[0m \u001b[39m\u001b[39m\u001b[39m\"\"\"Accuracy classification score.\u001b[39;00m\n\u001b[1;32m    156\u001b[0m \n\u001b[1;32m    157\u001b[0m \u001b[39mIn multilabel classification, this function computes subset accuracy:\u001b[39;00m\n\u001b[0;32m   (...)\u001b[0m\n\u001b[1;32m    217\u001b[0m \u001b[39m0.5\u001b[39;00m\n\u001b[1;32m    218\u001b[0m \u001b[39m\"\"\"\u001b[39;00m\n\u001b[1;32m    220\u001b[0m \u001b[39m# Compute accuracy for each possible representation\u001b[39;00m\n\u001b[0;32m--> 221\u001b[0m y_type, y_true, y_pred \u001b[39m=\u001b[39m _check_targets(y_true, y_pred)\n\u001b[1;32m    222\u001b[0m check_consistent_length(y_true, y_pred, sample_weight)\n\u001b[1;32m    223\u001b[0m \u001b[39mif\u001b[39;00m y_type\u001b[39m.\u001b[39mstartswith(\u001b[39m\"\u001b[39m\u001b[39mmultilabel\u001b[39m\u001b[39m\"\u001b[39m):\n",
      "File \u001b[0;32m~/.pyenv/versions/3.9.6/envs/BACH/lib/python3.9/site-packages/sklearn/metrics/_classification.py:95\u001b[0m, in \u001b[0;36m_check_targets\u001b[0;34m(y_true, y_pred)\u001b[0m\n\u001b[1;32m     92\u001b[0m     y_type \u001b[39m=\u001b[39m {\u001b[39m\"\u001b[39m\u001b[39mmulticlass\u001b[39m\u001b[39m\"\u001b[39m}\n\u001b[1;32m     94\u001b[0m \u001b[39mif\u001b[39;00m \u001b[39mlen\u001b[39m(y_type) \u001b[39m>\u001b[39m \u001b[39m1\u001b[39m:\n\u001b[0;32m---> 95\u001b[0m     \u001b[39mraise\u001b[39;00m \u001b[39mValueError\u001b[39;00m(\n\u001b[1;32m     96\u001b[0m         \u001b[39m\"\u001b[39m\u001b[39mClassification metrics can\u001b[39m\u001b[39m'\u001b[39m\u001b[39mt handle a mix of \u001b[39m\u001b[39m{0}\u001b[39;00m\u001b[39m and \u001b[39m\u001b[39m{1}\u001b[39;00m\u001b[39m targets\u001b[39m\u001b[39m\"\u001b[39m\u001b[39m.\u001b[39mformat(\n\u001b[1;32m     97\u001b[0m             type_true, type_pred\n\u001b[1;32m     98\u001b[0m         )\n\u001b[1;32m     99\u001b[0m     )\n\u001b[1;32m    101\u001b[0m \u001b[39m# We can't have more than one value on y_type => The set is no more needed\u001b[39;00m\n\u001b[1;32m    102\u001b[0m y_type \u001b[39m=\u001b[39m y_type\u001b[39m.\u001b[39mpop()\n",
      "\u001b[0;31mValueError\u001b[0m: Classification metrics can't handle a mix of multilabel-indicator and binary targets"
     ]
    }
   ],
   "source": [
    "# Prepare test data\n",
    "test_data, test_target = testgen(eurusd, seq_len, [\"target_direction\"])\n",
    "\n",
    "# Test the model\n",
    "test_out = model.predict(test_data)\n",
    "test_pred = (test_out > 0.1).astype(int)\n",
    "print(f\"accuracy: {accuracy_score(test_pred, test_target)}\")\n",
    "print(f\"MAE: {mean_absolute_error(test_pred, test_target)}\")\n",
    "print(f\"F1: {f1_score(test_pred, test_target)}\")"
   ]
  },
  {
   "cell_type": "code",
   "execution_count": null,
   "metadata": {},
   "outputs": [
    {
     "name": "stdout",
     "output_type": "stream",
     "text": [
      "Model: \"sequential_14\"\n",
      "_________________________________________________________________\n",
      " Layer (type)                Output Shape              Param #   \n",
      "=================================================================\n",
      " conv1d_27 (Conv1D)          (None, 10, 1, 10)         170       \n",
      "                                                                 \n",
      " flatten_13 (Flatten)        (None, 100)               0         \n",
      "                                                                 \n",
      " dense_18 (Dense)            (None, 256)               25856     \n",
      "                                                                 \n",
      " dense_19 (Dense)            (None, 128)               32896     \n",
      "                                                                 \n",
      " dropout_14 (Dropout)        (None, 128)               0         \n",
      "                                                                 \n",
      " dense_20 (Dense)            (None, 1)                 129       \n",
      "                                                                 \n",
      "=================================================================\n",
      "Total params: 59,051\n",
      "Trainable params: 59,051\n",
      "Non-trainable params: 0\n",
      "_________________________________________________________________\n"
     ]
    }
   ],
   "source": [
    "model.summary()"
   ]
  },
  {
   "cell_type": "code",
   "execution_count": 79,
   "metadata": {},
   "outputs": [
    {
     "data": {
      "text/plain": [
       "array([[0.5008456 , 0.49915445],\n",
       "       [0.5008456 , 0.49915445],\n",
       "       [0.5008456 , 0.49915445],\n",
       "       ...,\n",
       "       [0.5008456 , 0.49915445],\n",
       "       [0.5008456 , 0.49915445],\n",
       "       [0.5008456 , 0.49915445]], dtype=float32)"
      ]
     },
     "execution_count": 79,
     "metadata": {},
     "output_type": "execute_result"
    }
   ],
   "source": [
    "test_out"
   ]
  },
  {
   "cell_type": "code",
   "execution_count": 22,
   "metadata": {},
   "outputs": [
    {
     "data": {
      "text/plain": [
       "0    0.640443\n",
       "1    0.359557\n",
       "Name: target_direction, dtype: float64"
      ]
     },
     "execution_count": 22,
     "metadata": {},
     "output_type": "execute_result"
    }
   ],
   "source": [
    "eurusd['target_direction'].value_counts()/eurusd.shape[0]"
   ]
  },
  {
   "cell_type": "code",
   "execution_count": 23,
   "metadata": {},
   "outputs": [
    {
     "data": {
      "text/plain": [
       "1    10556\n",
       "dtype: int64"
      ]
     },
     "execution_count": 23,
     "metadata": {},
     "output_type": "execute_result"
    }
   ],
   "source": [
    "pd.DataFrame(test_pred).value_counts()"
   ]
  },
  {
   "cell_type": "code",
   "execution_count": 16,
   "metadata": {},
   "outputs": [
    {
     "data": {
      "text/plain": [
       "0.00040017485"
      ]
     },
     "execution_count": 16,
     "metadata": {},
     "output_type": "execute_result"
    }
   ],
   "source": [
    "# load data\n",
    "eurusd = load(currency=CURR, interval='15m')\n",
    "eurusd = add_variables(ohlc=eurusd)\n",
    "eurusd.Close.diff(1).abs().mean()"
   ]
  },
  {
   "cell_type": "code",
   "execution_count": 17,
   "metadata": {},
   "outputs": [
    {
     "data": {
      "text/plain": [
       "0.0015916616"
      ]
     },
     "execution_count": 17,
     "metadata": {},
     "output_type": "execute_result"
    }
   ],
   "source": [
    "eurusd = load(currency=CURR, interval='4h')\n",
    "eurusd = add_variables(ohlc=eurusd)\n",
    "eurusd.Close.diff(1).abs().mean()"
   ]
  },
  {
   "attachments": {},
   "cell_type": "markdown",
   "metadata": {},
   "source": [
    "# TESTING"
   ]
  },
  {
   "attachments": {},
   "cell_type": "markdown",
   "metadata": {},
   "source": [
    "## Testing AMZN"
   ]
  },
  {
   "cell_type": "code",
   "execution_count": 2,
   "metadata": {},
   "outputs": [],
   "source": [
    "from src.utils import load, clean_data\n",
    "from src.preprocessing import DataSet\n",
    "from src.forecast import TSCV, NaiveSeasonal, NaiveAVG, NaiveDrift, NaiveLast"
   ]
  },
  {
   "cell_type": "code",
   "execution_count": 19,
   "metadata": {},
   "outputs": [
    {
     "name": "stdout",
     "output_type": "stream",
     "text": [
      "split: 1/10\n",
      "split: 2/10\n",
      "split: 3/10\n",
      "split: 4/10\n",
      "split: 5/10\n",
      "split: 6/10\n",
      "split: 7/10\n",
      "split: 8/10\n",
      "split: 9/10\n",
      "split: 10/10\n",
      "\n",
      "[INFO] Calculating reisduals..\n",
      "\n",
      "5/17001\n",
      "505/17001\n",
      "1005/17001\n",
      "1505/17001\n",
      "2005/17001\n",
      "2505/17001\n",
      "3005/17001\n",
      "3505/17001\n",
      "4005/17001\n",
      "4505/17001\n",
      "5005/17001\n",
      "5505/17001\n",
      "6005/17001\n",
      "6505/17001\n",
      "7005/17001\n",
      "7505/17001\n",
      "8005/17001\n",
      "8505/17001\n",
      "9005/17001\n",
      "9505/17001\n",
      "10005/17001\n",
      "10505/17001\n",
      "11005/17001\n",
      "11505/17001\n",
      "12005/17001\n",
      "12505/17001\n",
      "13005/17001\n",
      "13505/17001\n",
      "14005/17001\n",
      "14505/17001\n",
      "15005/17001\n",
      "15505/17001\n",
      "16005/17001\n",
      "16505/17001\n"
     ]
    },
    {
     "data": {
      "text/plain": [
       "({'mean_absolute_percentage_error': 0.03997412507649236,\n",
       "  'rmspe': 0.13217001111009224,\n",
       "  'mean_absolute_error': 0.04971651799394165},\n",
       " {'mean_absolute_percentage_error': 0.03864264955130953,\n",
       "  'rmspe': 0.04126898824679071,\n",
       "  'mean_absolute_error': 0.043489377863692065})"
      ]
     },
     "execution_count": 19,
     "metadata": {},
     "output_type": "execute_result"
    }
   ],
   "source": [
    "CURRENCY = \"EURUSD\"\n",
    "INTERVAL = \"4h\"\n",
    "\n",
    "amzn = load(currency=CURRENCY, interval=INTERVAL)\n",
    "amzn = clean_data(amzn)\n",
    "data = DataSet(data=amzn, ratios=[0.95, 0.05], label=['target_value'])\n",
    "tscv = TSCV(dataset=data,\n",
    "            n_splits=10,\n",
    "            test_size=500)\n",
    "# tscv.run(model=NaiveSeasonal(h=5, k=4), h=5, k=4, norm_type=\"standarize\")\n",
    "# tscv.run(model=NaiveAVG(h=5, T=4), h=5, T=4, norm_type=\"standarize\")\n",
    "tscv.run(model=NaiveDrift(h=500), h=500, norm_type=\"standarize\")\n",
    "# tscv.run(model=NaiveLast(h=500), h=500, norm_type=\"standarize\")"
   ]
  },
  {
   "cell_type": "code",
   "execution_count": 20,
   "metadata": {},
   "outputs": [
    {
     "data": {
      "text/plain": [
       "(0.10031506, 1.1872452, 0.084493965)"
      ]
     },
     "execution_count": 20,
     "metadata": {},
     "output_type": "execute_result"
    }
   ],
   "source": [
    "s = amzn.Close.std()\n",
    "m = amzn.Close.mean()\n",
    "s, m, s/m"
   ]
  },
  {
   "cell_type": "code",
   "execution_count": 21,
   "metadata": {},
   "outputs": [
    {
     "data": {
      "text/plain": [
       "Datetime\n",
       "2011-08-17 16:00:00    1.4400\n",
       "2011-08-17 20:00:00    1.4400\n",
       "2011-08-18 00:00:00    1.4370\n",
       "2011-08-18 04:00:00    1.4320\n",
       "2011-08-18 08:00:00    1.4340\n",
       "                        ...  \n",
       "2022-10-17 08:00:00    0.9840\n",
       "2022-10-17 12:00:00    0.9834\n",
       "2022-10-17 16:00:00    0.9850\n",
       "2022-10-17 20:00:00    0.9844\n",
       "2022-10-18 00:00:00    0.9870\n",
       "Name: Close, Length: 18019, dtype: float32"
      ]
     },
     "execution_count": 21,
     "metadata": {},
     "output_type": "execute_result"
    }
   ],
   "source": [
    "amzn.Close"
   ]
  },
  {
   "cell_type": "code",
   "execution_count": 22,
   "metadata": {},
   "outputs": [
    {
     "data": {
      "text/plain": [
       "[<matplotlib.lines.Line2D at 0x2ce59f130>]"
      ]
     },
     "execution_count": 22,
     "metadata": {},
     "output_type": "execute_result"
    },
    {
     "data": {
      "image/png": "[encoded data removed]",
      "text/plain": [
       "<Figure size 640x480 with 1 Axes>"
      ]
     },
     "metadata": {},
     "output_type": "display_data"
    }
   ],
   "source": [
    "plt.plot(tscv.model.pred_insample)\n",
    "plt.plot(tscv.dataset.train['Close'].values)"
   ]
  },
  {
   "attachments": {},
   "cell_type": "markdown",
   "metadata": {},
   "source": [
    "For AMZN MAPE: 4.95% RMSPE: 7.62% (in sample)\n",
    "\n",
    "\n",
    "For AMZN MAPE: 1.66% RMSPE: 2.02% (out of sample)\n",
    "\n",
    "({'mean_absolute_percentage_error': 0.04956305, 'rmspe': 0.07629055},\n",
    " {'mean_absolute_percentage_error': 0.016662065, 'rmspe': 0.02026258})"
   ]
  },
  {
   "cell_type": "code",
   "execution_count": null,
   "metadata": {},
   "outputs": [],
   "source": []
  },
  {
   "attachments": {},
   "cell_type": "markdown",
   "metadata": {},
   "source": [
    "EURUSD 4h\n",
    "({'mean_absolute_percentage_error': 0.0024390433, 'rmspe': 0.0035899489},\n",
    " {'mean_absolute_percentage_error': 0.0024496086, 'rmspe': 0.0031022483})"
   ]
  },
  {
   "attachments": {},
   "cell_type": "markdown",
   "metadata": {},
   "source": [
    "USDJPY 4h\n",
    "({'mean_absolute_percentage_error': 0.0024852448, 'rmspe':  0.0037517922},\n",
    " {'mean_absolute_percentage_error': 0.002553856, 'rmspe': 0.0032066398})"
   ]
  },
  {
   "attachments": {},
   "cell_type": "markdown",
   "metadata": {},
   "source": [
    "USDJPY 1m ({'mean_absolute_percentage_error': 0.00015067536, 'rmspe': 0.00025786713},\n",
    " {'mean_absolute_percentage_error': 7.9848774e-05, 'rmspe': 0.00010066714})"
   ]
  },
  {
   "cell_type": "code",
   "execution_count": null,
   "metadata": {},
   "outputs": [],
   "source": []
  },
  {
   "attachments": {},
   "cell_type": "markdown",
   "metadata": {},
   "source": [
    "## LSTM test"
   ]
  },
  {
   "cell_type": "code",
   "execution_count": 19,
   "metadata": {},
   "outputs": [],
   "source": [
    "from src.utils import clean_data\n",
    "from src.preprocessing import DataSet\n",
    "from src.forecast import TSCV\n",
    "\n",
    "from keras.models import Sequential\n",
    "from keras.layers import LSTM, Dense\n",
    "from keras.optimizers import Adam\n",
    "from keras.losses import MeanAbsoluteError\n",
    "from keras.metrics import RootMeanSquaredError"
   ]
  },
  {
   "cell_type": "code",
   "execution_count": 14,
   "metadata": {},
   "outputs": [],
   "source": [
    "CURR = \"EURUSD\"\n",
    "INTERVAL = \"4h\"\n",
    "eurusd = load(currency=CURR, interval=INTERVAL)\n",
    "eurusd = clean_data(eurusd)\n",
    "data = DataSet(data=eurusd, ratios=[0.95, 0.05], label=['target_value'])\n",
    "tscv = TSCV(dataset=data,\n",
    "            n_splits=3,\n",
    "            test_size=20)"
   ]
  },
  {
   "cell_type": "code",
   "execution_count": 37,
   "metadata": {},
   "outputs": [
    {
     "ename": "AttributeError",
     "evalue": "'_TensorSliceDataset' object has no attribute 'bathc'",
     "output_type": "error",
     "traceback": [
      "\u001b[0;31m---------------------------------------------------------------------------\u001b[0m",
      "\u001b[0;31mAttributeError\u001b[0m                            Traceback (most recent call last)",
      "Cell \u001b[0;32mIn[37], line 2\u001b[0m\n\u001b[1;32m      1\u001b[0m train_x, train_y \u001b[39m=\u001b[39m data\u001b[39m.\u001b[39mtrain\u001b[39m.\u001b[39mdrop(columns\u001b[39m=\u001b[39m[\u001b[39m'\u001b[39m\u001b[39mtarget_value\u001b[39m\u001b[39m'\u001b[39m]), data\u001b[39m.\u001b[39mtrain\u001b[39m.\u001b[39mtarget_value\n\u001b[0;32m----> 2\u001b[0m train_data \u001b[39m=\u001b[39m tf\u001b[39m.\u001b[39;49mdata\u001b[39m.\u001b[39;49mDataset\u001b[39m.\u001b[39;49mfrom_tensor_slices((train_x, train_y))\u001b[39m.\u001b[39;49mbathc(\u001b[39m32\u001b[39m)\n",
      "\u001b[0;31mAttributeError\u001b[0m: '_TensorSliceDataset' object has no attribute 'bathc'"
     ]
    }
   ],
   "source": [
    "train_x, train_y = data.train.drop(columns=['target_value']), data.train.target_value\n",
    "train_data = tf.data.Dataset.from_tensor_slices((train_x, train_y)).bathc(32)"
   ]
  },
  {
   "cell_type": "code",
   "execution_count": 38,
   "metadata": {},
   "outputs": [
    {
     "name": "stdout",
     "output_type": "stream",
     "text": [
      "Epoch 1/3\n"
     ]
    },
    {
     "ename": "ValueError",
     "evalue": "in user code:\n\n    File \"/Users/sebastiansukiennik/.pyenv/versions/3.9.6/envs/BACH/lib/python3.9/site-packages/keras/engine/training.py\", line 1284, in train_function  *\n        return step_function(self, iterator)\n    File \"/Users/sebastiansukiennik/.pyenv/versions/3.9.6/envs/BACH/lib/python3.9/site-packages/keras/engine/training.py\", line 1268, in step_function  **\n        outputs = model.distribute_strategy.run(run_step, args=(data,))\n    File \"/Users/sebastiansukiennik/.pyenv/versions/3.9.6/envs/BACH/lib/python3.9/site-packages/keras/engine/training.py\", line 1249, in run_step  **\n        outputs = model.train_step(data)\n    File \"/Users/sebastiansukiennik/.pyenv/versions/3.9.6/envs/BACH/lib/python3.9/site-packages/keras/engine/training.py\", line 1050, in train_step\n        y_pred = self(x, training=True)\n    File \"/Users/sebastiansukiennik/.pyenv/versions/3.9.6/envs/BACH/lib/python3.9/site-packages/keras/utils/traceback_utils.py\", line 70, in error_handler\n        raise e.with_traceback(filtered_tb) from None\n    File \"/Users/sebastiansukiennik/.pyenv/versions/3.9.6/envs/BACH/lib/python3.9/site-packages/keras/engine/input_spec.py\", line 235, in assert_input_compatibility\n        raise ValueError(\n\n    ValueError: Exception encountered when calling layer 'sequential_4' (type Sequential).\n    \n    Input 0 of layer \"lstm_14\" is incompatible with the layer: expected ndim=3, found ndim=1. Full shape received: (49,)\n    \n    Call arguments received by layer 'sequential_4' (type Sequential):\n      • inputs=tf.Tensor(shape=(49,), dtype=float64)\n      • training=True\n      • mask=None\n",
     "output_type": "error",
     "traceback": [
      "\u001b[0;31m---------------------------------------------------------------------------\u001b[0m",
      "\u001b[0;31mValueError\u001b[0m                                Traceback (most recent call last)",
      "Cell \u001b[0;32mIn[38], line 11\u001b[0m\n\u001b[1;32m      2\u001b[0m model \u001b[39m=\u001b[39m tf\u001b[39m.\u001b[39mkeras\u001b[39m.\u001b[39mmodels\u001b[39m.\u001b[39mSequential(\n\u001b[1;32m      3\u001b[0m     [LSTM(\u001b[39m32\u001b[39m, input_shape\u001b[39m=\u001b[39m(\u001b[39mNone\u001b[39;00m, \u001b[39m49\u001b[39m)),\n\u001b[1;32m      4\u001b[0m     Dense(\u001b[39m1\u001b[39m)]\n\u001b[1;32m      5\u001b[0m )\n\u001b[1;32m      6\u001b[0m model\u001b[39m.\u001b[39mcompile(\n\u001b[1;32m      7\u001b[0m     optimizer\u001b[39m=\u001b[39mAdam(),\n\u001b[1;32m      8\u001b[0m     loss\u001b[39m=\u001b[39mMeanAbsoluteError(),\n\u001b[1;32m      9\u001b[0m     metrics\u001b[39m=\u001b[39mRootMeanSquaredError()\n\u001b[1;32m     10\u001b[0m )\n\u001b[0;32m---> 11\u001b[0m model\u001b[39m.\u001b[39;49mfit(train_data, epochs\u001b[39m=\u001b[39;49m\u001b[39m3\u001b[39;49m)\n",
      "File \u001b[0;32m~/.pyenv/versions/3.9.6/envs/BACH/lib/python3.9/site-packages/keras/utils/traceback_utils.py:70\u001b[0m, in \u001b[0;36mfilter_traceback.<locals>.error_handler\u001b[0;34m(*args, **kwargs)\u001b[0m\n\u001b[1;32m     67\u001b[0m     filtered_tb \u001b[39m=\u001b[39m _process_traceback_frames(e\u001b[39m.\u001b[39m__traceback__)\n\u001b[1;32m     68\u001b[0m     \u001b[39m# To get the full stack trace, call:\u001b[39;00m\n\u001b[1;32m     69\u001b[0m     \u001b[39m# `tf.debugging.disable_traceback_filtering()`\u001b[39;00m\n\u001b[0;32m---> 70\u001b[0m     \u001b[39mraise\u001b[39;00m e\u001b[39m.\u001b[39mwith_traceback(filtered_tb) \u001b[39mfrom\u001b[39;00m \u001b[39mNone\u001b[39m\n\u001b[1;32m     71\u001b[0m \u001b[39mfinally\u001b[39;00m:\n\u001b[1;32m     72\u001b[0m     \u001b[39mdel\u001b[39;00m filtered_tb\n",
      "File \u001b[0;32m/var/folders/zl/2j8hfjw54ks5_8wbg_vxj07c0000gn/T/__autograph_generated_file2f4s7iu2.py:15\u001b[0m, in \u001b[0;36mouter_factory.<locals>.inner_factory.<locals>.tf__train_function\u001b[0;34m(iterator)\u001b[0m\n\u001b[1;32m     13\u001b[0m \u001b[39mtry\u001b[39;00m:\n\u001b[1;32m     14\u001b[0m     do_return \u001b[39m=\u001b[39m \u001b[39mTrue\u001b[39;00m\n\u001b[0;32m---> 15\u001b[0m     retval_ \u001b[39m=\u001b[39m ag__\u001b[39m.\u001b[39mconverted_call(ag__\u001b[39m.\u001b[39mld(step_function), (ag__\u001b[39m.\u001b[39mld(\u001b[39mself\u001b[39m), ag__\u001b[39m.\u001b[39mld(iterator)), \u001b[39mNone\u001b[39;00m, fscope)\n\u001b[1;32m     16\u001b[0m \u001b[39mexcept\u001b[39;00m:\n\u001b[1;32m     17\u001b[0m     do_return \u001b[39m=\u001b[39m \u001b[39mFalse\u001b[39;00m\n",
      "\u001b[0;31mValueError\u001b[0m: in user code:\n\n    File \"/Users/sebastiansukiennik/.pyenv/versions/3.9.6/envs/BACH/lib/python3.9/site-packages/keras/engine/training.py\", line 1284, in train_function  *\n        return step_function(self, iterator)\n    File \"/Users/sebastiansukiennik/.pyenv/versions/3.9.6/envs/BACH/lib/python3.9/site-packages/keras/engine/training.py\", line 1268, in step_function  **\n        outputs = model.distribute_strategy.run(run_step, args=(data,))\n    File \"/Users/sebastiansukiennik/.pyenv/versions/3.9.6/envs/BACH/lib/python3.9/site-packages/keras/engine/training.py\", line 1249, in run_step  **\n        outputs = model.train_step(data)\n    File \"/Users/sebastiansukiennik/.pyenv/versions/3.9.6/envs/BACH/lib/python3.9/site-packages/keras/engine/training.py\", line 1050, in train_step\n        y_pred = self(x, training=True)\n    File \"/Users/sebastiansukiennik/.pyenv/versions/3.9.6/envs/BACH/lib/python3.9/site-packages/keras/utils/traceback_utils.py\", line 70, in error_handler\n        raise e.with_traceback(filtered_tb) from None\n    File \"/Users/sebastiansukiennik/.pyenv/versions/3.9.6/envs/BACH/lib/python3.9/site-packages/keras/engine/input_spec.py\", line 235, in assert_input_compatibility\n        raise ValueError(\n\n    ValueError: Exception encountered when calling layer 'sequential_4' (type Sequential).\n    \n    Input 0 of layer \"lstm_14\" is incompatible with the layer: expected ndim=3, found ndim=1. Full shape received: (49,)\n    \n    Call arguments received by layer 'sequential_4' (type Sequential):\n      • inputs=tf.Tensor(shape=(49,), dtype=float64)\n      • training=True\n      • mask=None\n"
     ]
    }
   ],
   "source": [
    "# define model\n",
    "model = tf.keras.models.Sequential(\n",
    "    [LSTM(32, input_shape=(None, 49)),\n",
    "    Dense(1)]\n",
    ")\n",
    "model.compile(\n",
    "    optimizer=Adam(),\n",
    "    loss=MeanAbsoluteError(),\n",
    "    metrics=RootMeanSquaredError()\n",
    ")\n",
    "model.fit(train_data, epochs=3)"
   ]
  },
  {
   "cell_type": "code",
   "execution_count": null,
   "metadata": {},
   "outputs": [],
   "source": []
  },
  {
   "cell_type": "code",
   "execution_count": 55,
   "metadata": {},
   "outputs": [],
   "source": [
    "import pandas as pd\n",
    "grid_res = ['gridSearchResults/CLSTM_dense_2.csv', 'gridSearchResults/CLSTM_lstm_2.csv', 'gridSearchResults/CLSTM_cnn_2.csv']\n",
    "res_name = grid_res[0]\n"
   ]
  },
  {
   "cell_type": "code",
   "execution_count": 56,
   "metadata": {},
   "outputs": [],
   "source": [
    "res = pd.read_csv(res_name, index_col=[0])\n",
    "res.iloc[:5, 2:].to_clipboard()"
   ]
  },
  {
   "cell_type": "code",
   "execution_count": 44,
   "metadata": {},
   "outputs": [],
   "source": []
  },
  {
   "cell_type": "code",
   "execution_count": null,
   "metadata": {},
   "outputs": [],
   "source": []
  }
 ],
 "metadata": {
  "kernelspec": {
   "display_name": "BACH",
   "language": "python",
   "name": "python3"
  },
  "language_info": {
   "codemirror_mode": {
    "name": "ipython",
    "version": 3
   },
   "file_extension": ".py",
   "mimetype": "text/x-python",
   "name": "python",
   "nbconvert_exporter": "python",
   "pygments_lexer": "ipython3",
   "version": "3.9.6"
  },
  "orig_nbformat": 4,
  "vscode": {
   "interpreter": {
    "hash": "938ad9ab7fb30d5d26cec39666c328864d13afdaa6cecce7828c724ff7169845"
   }
  }
 },
 "nbformat": 4,
 "nbformat_minor": 2
}
