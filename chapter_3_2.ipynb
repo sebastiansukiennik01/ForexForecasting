{
 "cells": [
  {
   "cell_type": "code",
   "execution_count": 72,
   "metadata": {},
   "outputs": [
    {
     "name": "stdout",
     "output_type": "stream",
     "text": [
      "The autoreload extension is already loaded. To reload it, use:\n",
      "  %reload_ext autoreload\n"
     ]
    }
   ],
   "source": [
    "%load_ext autoreload\n",
    "%autoreload 2\n",
    "\n",
    "import pandas as pd\n",
    "import numpy as np\n",
    "import matplotlib.pyplot as plt\n",
    "import seaborn as sns\n",
    "\n",
    "from src.utils import load, add_variables, clean_data\n",
    "from src.preprocessing import DataSet\n",
    "\n",
    "pd.set_option(\"display.max_rows\", 200)\n",
    "pd.set_option(\"display.max_columns\", 50)"
   ]
  },
  {
   "cell_type": "code",
   "execution_count": 73,
   "metadata": {},
   "outputs": [],
   "source": [
    "CURRENCY = \"EURUSD\"\n",
    "INTERVAL = \"15m\""
   ]
  },
  {
   "attachments": {},
   "cell_type": "markdown",
   "metadata": {},
   "source": [
    "## Podział na zbiory train, test, validate"
   ]
  },
  {
   "cell_type": "code",
   "execution_count": 74,
   "metadata": {},
   "outputs": [],
   "source": [
    "eurusd = load(currency=CURRENCY, interval=INTERVAL)\n"
   ]
  },
  {
   "cell_type": "code",
   "execution_count": 88,
   "metadata": {},
   "outputs": [],
   "source": [
    "data = DataSet(data=eurusd, ratios=[0.9, 0.05, 0.05], label=['target_direction', 'target_value'])\n",
    "train, val, test = data.add_variables().clean_data().normalize(how=\"standarize\").get_tvt_df()"
   ]
  },
  {
   "cell_type": "code",
   "execution_count": 89,
   "metadata": {},
   "outputs": [
    {
     "name": "stdout",
     "output_type": "stream",
     "text": [
      "<class 'pandas.core.frame.DataFrame'>\n",
      "DatetimeIndex: 13595 entries, 2021-09-21 16:45:00 to 2022-04-11 01:30:00\n",
      "Data columns (total 51 columns):\n",
      " #   Column            Non-Null Count  Dtype  \n",
      "---  ------            --------------  -----  \n",
      " 0   Open              13595 non-null  float64\n",
      " 1   Low               13595 non-null  float64\n",
      " 2   High              13595 non-null  float64\n",
      " 3   Close             13595 non-null  float64\n",
      " 4   Volume            13595 non-null  float64\n",
      " 5   roi_1             13595 non-null  float64\n",
      " 6   roi_3             13595 non-null  float64\n",
      " 7   roi_5             13595 non-null  float64\n",
      " 8   roi_10            13595 non-null  float64\n",
      " 9   roi_20            13595 non-null  float64\n",
      " 10  candle_body_size  13595 non-null  float64\n",
      " 11  vol_change_1      13595 non-null  float64\n",
      " 12  vol_change_2      13595 non-null  float64\n",
      " 13  vol_change_3      13595 non-null  float64\n",
      " 14  sma_50            13595 non-null  float64\n",
      " 15  sma_200           13595 non-null  float64\n",
      " 16  target_value      13595 non-null  float32\n",
      " 17  target_direction  13595 non-null  int64  \n",
      " 18  candle_size       13595 non-null  float64\n",
      " 19  impulse           13595 non-null  int64  \n",
      " 20  hour_0            13595 non-null  float64\n",
      " 21  hour_1            13595 non-null  float64\n",
      " 22  hour_2            13595 non-null  float64\n",
      " 23  hour_3            13595 non-null  float64\n",
      " 24  hour_4            13595 non-null  float64\n",
      " 25  hour_5            13595 non-null  float64\n",
      " 26  hour_6            13595 non-null  float64\n",
      " 27  hour_7            13595 non-null  float64\n",
      " 28  hour_8            13595 non-null  float64\n",
      " 29  hour_9            13595 non-null  float64\n",
      " 30  hour_10           13595 non-null  float64\n",
      " 31  hour_11           13595 non-null  float64\n",
      " 32  hour_12           13595 non-null  float64\n",
      " 33  hour_13           13595 non-null  float64\n",
      " 34  hour_14           13595 non-null  float64\n",
      " 35  hour_15           13595 non-null  float64\n",
      " 36  hour_16           13595 non-null  float64\n",
      " 37  hour_17           13595 non-null  float64\n",
      " 38  hour_18           13595 non-null  float64\n",
      " 39  hour_19           13595 non-null  float64\n",
      " 40  hour_20           13595 non-null  float64\n",
      " 41  hour_21           13595 non-null  float64\n",
      " 42  hour_22           13595 non-null  float64\n",
      " 43  hour_23           13595 non-null  float64\n",
      " 44  weekday_0         13595 non-null  float64\n",
      " 45  weekday_1         13595 non-null  float64\n",
      " 46  weekday_2         13595 non-null  float64\n",
      " 47  weekday_3         13595 non-null  float64\n",
      " 48  weekday_4         13595 non-null  float64\n",
      " 49  weekday_5         13595 non-null  float64\n",
      " 50  weekday_6         13595 non-null  float64\n",
      "dtypes: float32(1), float64(48), int64(2)\n",
      "memory usage: 5.3 MB\n"
     ]
    }
   ],
   "source": [
    "val.info()"
   ]
  }
 ],
 "metadata": {
  "kernelspec": {
   "display_name": "BACH",
   "language": "python",
   "name": "python3"
  },
  "language_info": {
   "codemirror_mode": {
    "name": "ipython",
    "version": 3
   },
   "file_extension": ".py",
   "mimetype": "text/x-python",
   "name": "python",
   "nbconvert_exporter": "python",
   "pygments_lexer": "ipython3",
   "version": "3.9.6"
  },
  "orig_nbformat": 4,
  "vscode": {
   "interpreter": {
    "hash": "938ad9ab7fb30d5d26cec39666c328864d13afdaa6cecce7828c724ff7169845"
   }
  }
 },
 "nbformat": 4,
 "nbformat_minor": 2
}
